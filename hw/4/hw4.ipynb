{
 "cells": [
  {
   "cell_type": "markdown",
   "id": "e6f0c629db98feaf",
   "metadata": {},
   "source": [
    "### Условие 1: Задача 1\n",
    "* Постройте график\n",
    "* Назовите график\n",
    "* Сделайте именование оси x и оси y\n",
    "* Сделайте выводы\n",
    "\n",
    "1.1. Скачать следующие данные: kc-house-data и laptop_price"
   ]
  },
  {
   "cell_type": "code",
   "execution_count": 5,
   "id": "cbe490f55b77b15a",
   "metadata": {
    "ExecuteTime": {
     "end_time": "2024-09-20T18:01:49.079194Z",
     "start_time": "2024-09-20T18:01:48.931235Z"
    }
   },
   "outputs": [],
   "source": [
    "import pandas as pd\n",
    "df_house = pd.read_csv('kc-house-data.csv')"
   ]
  },
  {
   "cell_type": "markdown",
   "id": "d2f0cd1c083db475",
   "metadata": {},
   "source": [
    "1.2. Изучите стоимости недвижимости"
   ]
  },
  {
   "cell_type": "code",
   "execution_count": 6,
   "id": "69fb9a52",
   "metadata": {},
   "outputs": [
    {
     "data": {
      "text/plain": [
       "0        221900.0\n",
       "1        538000.0\n",
       "2        180000.0\n",
       "3        604000.0\n",
       "4        510000.0\n",
       "           ...   \n",
       "21608    360000.0\n",
       "21609    400000.0\n",
       "21610    402101.0\n",
       "21611    400000.0\n",
       "21612    325000.0\n",
       "Name: price, Length: 21613, dtype: float64"
      ]
     },
     "execution_count": 6,
     "metadata": {},
     "output_type": "execute_result"
    }
   ],
   "source": [
    "df_house[\"price\"]"
   ]
  },
  {
   "cell_type": "markdown",
   "id": "7f791af9269539c5",
   "metadata": {},
   "source": [
    "1.3. Изучите распределение квадратуры жилой"
   ]
  },
  {
   "cell_type": "markdown",
   "id": "212c31707113ac16",
   "metadata": {},
   "source": [
    "1.4. Изучите распределение года постройки"
   ]
  },
  {
   "cell_type": "markdown",
   "id": "95157c8dddf4c229",
   "metadata": {},
   "source": [
    "### Условие 2: 2 задача\n",
    "2.1. Изучите распределение домов от наличия вида на набережную\n",
    "* Постройте график\n",
    "* Сделайте выводы"
   ]
  },
  {
   "cell_type": "markdown",
   "id": "7a00cb5c8fb574bf",
   "metadata": {},
   "source": [
    "2.2. Изучите распределение этажей домов"
   ]
  },
  {
   "cell_type": "markdown",
   "id": "7401d373c907bff8",
   "metadata": {},
   "source": [
    "2.3. Изучите распределение состояния домов"
   ]
  },
  {
   "cell_type": "markdown",
   "id": "1bf4fb66ff2ea1e3",
   "metadata": {},
   "source": [
    "## Условие 3: 3 задача\n",
    "* Исследуйте, какие характеристики недвижимости влияют на стоимость недвижимости, с применением не менее 5 диаграмм из урока.\n",
    "* Анализ сделайте в формате storytelling: дополнить каждый график письменными выводами и наблюдениями."
   ]
  }
 ],
 "metadata": {
  "kernelspec": {
   "display_name": ".venv",
   "language": "python",
   "name": "python3"
  },
  "language_info": {
   "codemirror_mode": {
    "name": "ipython",
    "version": 3
   },
   "file_extension": ".py",
   "mimetype": "text/x-python",
   "name": "python",
   "nbconvert_exporter": "python",
   "pygments_lexer": "ipython3",
   "version": "3.12.4"
  }
 },
 "nbformat": 4,
 "nbformat_minor": 5
}
